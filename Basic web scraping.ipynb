{
 "cells": [
  {
   "cell_type": "markdown",
   "metadata": {},
   "source": [
    "# Basic web scraping"
   ]
  },
  {
   "cell_type": "markdown",
   "metadata": {},
   "source": [
    "Scraping the blogs of Frame.io"
   ]
  },
  {
   "cell_type": "code",
   "execution_count": 1,
   "metadata": {},
   "outputs": [],
   "source": [
    "import requests\n",
    "from bs4 import BeautifulSoup\n",
    "from dateutil import parser"
   ]
  },
  {
   "cell_type": "code",
   "execution_count": 26,
   "metadata": {},
   "outputs": [],
   "source": [
    "#header dictionary\n",
    "headers = {\n",
    "    'user-agent':'Chrome/56.0.292487',\n",
    "    'referrer':'https://google.com'\n",
    "}"
   ]
  },
  {
   "cell_type": "code",
   "execution_count": 27,
   "metadata": {},
   "outputs": [
    {
     "data": {
      "text/plain": [
       "200"
      ]
     },
     "execution_count": 27,
     "metadata": {},
     "output_type": "execute_result"
    }
   ],
   "source": [
    "url = 'https://blog.frame.io/2018/10/01/'\n",
    "r = requests.get(url,headers=headers)\n",
    "r.status_code"
   ]
  },
  {
   "cell_type": "code",
   "execution_count": 28,
   "metadata": {},
   "outputs": [],
   "source": [
    "html = r.text.strip() #strip - removes spaces\n",
    "soup = BeautifulSoup(html,'lxml')\n"
   ]
  },
  {
   "cell_type": "code",
   "execution_count": 8,
   "metadata": {},
   "outputs": [],
   "source": [
    "header = soup.find(class_='entry-header')\n",
    "title_html = header.find(class_='post-meta-title')\n"
   ]
  },
  {
   "cell_type": "code",
   "execution_count": 13,
   "metadata": {},
   "outputs": [],
   "source": [
    "def parse_page(url):\n",
    "    r = requests.get(url, headers=headers)\n",
    "    html = r.text.strip()\n",
    "    soup = BeautifulSoup(html, 'lxml')\n",
    "    \n",
    "    # Header Content\n",
    "    header = soup.find(class_='entry-header')\n",
    "    read_time = extract_read_time(header)\n",
    "    title = extract_title(header)\n",
    "\n",
    "    author = extract_author(header)\n",
    "    categories = extract_categories(header)\n",
    "\n",
    "    date = extract_date(header)\n",
    "    dt = parser.parse(date)\n",
    "    month = dt.strftime(\"%B\")\n",
    "    weekday = dt.strftime(\"%A\")\n",
    "    \n",
    "    # Body Content\n",
    "    content = soup.find(class_='entry-content')\n",
    "    word_count = len(content.text.split())\n",
    "    #reading_level = textstat.flesch_kincaid_grade(content.text)\n",
    "\n",
    "    links = content.find_all(\"a\")\n",
    "    link_count = len(links)\n",
    "\n",
    "    images = content.find_all(\"img\")\n",
    "    image_count = len(images)\n",
    "    \n",
    "    page_data = {\n",
    "        'reading_time' : read_time,\n",
    "        'title': title,\n",
    "        'date': date,\n",
    "        'month': month,\n",
    "        'weekday': weekday,\n",
    "        'author': author,\n",
    "        'categories': categories,\n",
    "        'word_count': word_count,\n",
    "        #'reading_level': reading_level,\n",
    "        'link_count': link_count,\n",
    "        'image_count': image_count\n",
    "    }\n",
    "    \n",
    "    return page_data\n",
    "    \n",
    "def extract_read_time(header):\n",
    "    html_str = header.find(class_='read-time')\n",
    "    time_str = html_str.contents[0].strip().lower().split()[0]\n",
    "    time_int = int(time_str)\n",
    "    return time_int\n",
    "\n",
    "def extract_title(header):\n",
    "    html_str = header.find(class_='post-meta-title')\n",
    "    title_str = html_str.contents[0].strip()\n",
    "    return title_str\n",
    "\n",
    "def extract_date(header):\n",
    "    html_str = header.find(class_='single-post-date')\n",
    "    date_str = html_str.contents[0].strip()\n",
    "    return date_str\n",
    "\n",
    "def extract_author(header):\n",
    "    html_str = header.find(class_='author-name')\n",
    "    author_str = html_str.find('a').contents[0].strip()\n",
    "    return author_str\n",
    "\n",
    "def extract_categories(header):\n",
    "    html_str = header.find(class_='single-post-cat')\n",
    "    categories = html_str.findAll('a')\n",
    "    cat_names = []\n",
    "    for cat_link in categories:\n",
    "        cat_name = cat_link.contents[0].strip().lower()\n",
    "        cat_names.append(cat_name)\n",
    "    return cat_names"
   ]
  },
  {
   "cell_type": "code",
   "execution_count": 55,
   "metadata": {},
   "outputs": [],
   "source": [
    "articles_store = []"
   ]
  },
  {
   "cell_type": "code",
   "execution_count": 56,
   "metadata": {},
   "outputs": [],
   "source": [
    "def parse_category(url):\n",
    "    r = requests.get(url, headers=headers)\n",
    "    html = r.text.strip()\n",
    "    soup = BeautifulSoup(html, 'lxml')\n",
    "    \n",
    "    article_cards = soup.findAll(class_='post-content')\n",
    "\n",
    "    for article in article_cards:\n",
    "        title = article.find(class_='post-meta-title')\n",
    "        link = title.contents[0]['href']\n",
    "        #print('Parsing URL:', link)\n",
    "        page = parse_page(link)\n",
    "        articles_store.append(page)\n",
    "        \n",
    "    next_link = find_next_link(soup)\n",
    "    \n",
    "    if next_link is not None:\n",
    "        #print('Next page:', next_link)\n",
    "        parse_category(next_link)\n",
    "        \n",
    "    return None\n",
    "\n",
    "def find_next_link(soup_item):\n",
    "    bottom_nav = soup_item.find(class_='navigation')\n",
    "    \n",
    "    if bottom_nav == None:\n",
    "        return None\n",
    "    \n",
    "    links = bottom_nav.findAll('a')\n",
    "    next_page = links[-1]\n",
    "\n",
    "    if next_page.contents[0] == 'Next':\n",
    "        next_link = next_page['href']\n",
    "        return next_link\n",
    "    \n",
    "    return None"
   ]
  },
  {
   "cell_type": "code",
   "execution_count": 57,
   "metadata": {},
   "outputs": [],
   "source": [
    "bts = 'https://blog.frame.io/category/behind-the-scenes/'\n",
    "parse_category(bts)"
   ]
  },
  {
   "cell_type": "code",
   "execution_count": 58,
   "metadata": {},
   "outputs": [],
   "source": [
    "author_list = []\n",
    "author_dict = {}\n",
    "for i in range(len(articles_store)):\n",
    "    #print(articles_store[i].get('author'))\n",
    "    author= articles_store[i].get('author')\n",
    "    author_list.append(author)\n"
   ]
  },
  {
   "cell_type": "code",
   "execution_count": 59,
   "metadata": {},
   "outputs": [],
   "source": [
    "author_dict = {}\n",
    "for i in author_list:\n",
    "    #print(author_list.count(i))\n",
    "    author_dict.setdefault(i,author_list.count(i))"
   ]
  },
  {
   "cell_type": "code",
   "execution_count": 60,
   "metadata": {},
   "outputs": [
    {
     "name": "stdout",
     "output_type": "stream",
     "text": [
      "{u'Scott Strandberg': 1, u'Lisa McNamara': 11, u'Jason Boone': 1, u'Alexander Huls': 7, u'Ron Dawson': 3, u'Andy Young': 1, u'Christian Leithart': 1, u'Mark Christiansen': 6}\n"
     ]
    }
   ],
   "source": [
    "#    author_dict.setdefault(author,author.count(author[i]))\n",
    "print(author_dict)"
   ]
  },
  {
   "cell_type": "code",
   "execution_count": 61,
   "metadata": {},
   "outputs": [],
   "source": [
    "import matplotlib.pyplot as plt"
   ]
  },
  {
   "cell_type": "code",
   "execution_count": 62,
   "metadata": {},
   "outputs": [
    {
     "data": {
      "text/plain": [
       "Text(0.5,1,'The most popular author:')"
      ]
     },
     "execution_count": 62,
     "metadata": {},
     "output_type": "execute_result"
    },
    {
     "data": {
      "image/png": "[encoded data removed]",
      "text/plain": [
       "<Figure size 432x288 with 1 Axes>"
      ]
     },
     "metadata": {
      "needs_background": "light"
     },
     "output_type": "display_data"
    }
   ],
   "source": [
    "%matplotlib inline\n",
    "plt.barh(range(len(author_dict)), list(author_dict.values()))\n",
    "plt.yticks(range(len(author_dict)), list(author_dict.keys()), fontsize=12)\n",
    "plt.ylabel('Author', fontsize=15)\n",
    "plt.xlabel('Number of Blogs', fontsize=15)\n",
    "plt.title('The most popular author:', fontsize=20)"
   ]
  },
  {
   "cell_type": "code",
   "execution_count": 63,
   "metadata": {
    "scrolled": true
   },
   "outputs": [
    {
     "data": {
      "image/png": "[encoded data removed]",
      "text/plain": [
       "<Figure size 432x288 with 1 Axes>"
      ]
     },
     "metadata": {},
     "output_type": "display_data"
    }
   ],
   "source": [
    "fig1, ax1 = plt.subplots()\n",
    "ax1.pie(author_dict.values(), labels=author_dict.keys(), autopct='%1.1f%%',startangle=90)\n",
    "ax1.axis('equal')  # Equal aspect ratio ensures that pie is drawn as a circle.\n",
    "\n",
    "plt.show()"
   ]
  },
  {
   "cell_type": "markdown",
   "metadata": {},
   "source": [
    "Reference: Udemy course: Simple Blogging Analytics Dashboard in Python. Created by Ty Shaikh"
   ]
  }
 ],
 "metadata": {
  "kernelspec": {
   "display_name": "Python3",
   "language": "python",
   "name": "python3"
  },
  "language_info": {
   "codemirror_mode": {
    "name": "ipython",
    "version": 2
   },
   "file_extension": ".py",
   "mimetype": "text/x-python",
   "name": "python",
   "nbconvert_exporter": "python",
   "pygments_lexer": "ipython2",
   "version": "2.7.15"
  }
 },
 "nbformat": 4,
 "nbformat_minor": 2
}
